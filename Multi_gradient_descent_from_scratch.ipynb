{
  "nbformat": 4,
  "nbformat_minor": 0,
  "metadata": {
    "colab": {
      "provenance": [],
      "authorship_tag": "ABX9TyNNpdJARw6OOt6FegO7WrY7",
      "include_colab_link": true
    },
    "kernelspec": {
      "name": "python3",
      "display_name": "Python 3"
    },
    "language_info": {
      "name": "python"
    }
  },
  "cells": [
    {
      "cell_type": "markdown",
      "metadata": {
        "id": "view-in-github",
        "colab_type": "text"
      },
      "source": [
        "<a href=\"https://colab.research.google.com/github/Sikandar-Tariq/MultiGradient-Descent-From-scratch/blob/main/Multi_gradient_descent_from_scratch.ipynb\" target=\"_parent\"><img src=\"https://colab.research.google.com/assets/colab-badge.svg\" alt=\"Open In Colab\"/></a>"
      ]
    },
    {
      "cell_type": "code",
      "execution_count": null,
      "metadata": {
        "id": "Na9vUNEI3PDe"
      },
      "outputs": [],
      "source": [
        "import sympy as sp\n",
        "import numpy as np"
      ]
    },
    {
      "cell_type": "code",
      "source": [
        "feature_count = 2\n",
        "theta_symbols = sp.symbols('theta0:{}'.format(feature_count))\n",
        "theta_vector_sym = sp.Matrix(theta_symbols)\n",
        "b = sp.symbols('b')\n",
        "b_arb = 0.0\n",
        "theta_numerical = np.ones(feature_count)\n",
        "square_residuals = 0\n",
        "my_array = np.array([\n",
        "    [1, 1, 15],\n",
        "    [2, 2, 20],\n",
        "    [3, 3, 25]\n",
        "], dtype=float)\n",
        "n = my_array.shape[0]\n",
        "print(my_array[1,-1])"
      ],
      "metadata": {
        "colab": {
          "base_uri": "https://localhost:8080/"
        },
        "id": "6Uvt1QxW3bIj",
        "outputId": "ba9d29d3-4f73-4788-9399-899c2a9304af"
      },
      "execution_count": null,
      "outputs": [
        {
          "output_type": "stream",
          "name": "stdout",
          "text": [
            "20.0\n"
          ]
        }
      ]
    },
    {
      "cell_type": "code",
      "source": [
        "sum_of_squares = 0;\n",
        "for i in range (n):\n",
        "  x_i = sp.Matrix(my_array[i,:-1])\n",
        "  y_i = my_array[i,-1]\n",
        "  pred = (x_i.T * theta_vector_sym)[0] + b\n",
        "  sum_of_squares += (y_i - pred)**2"
      ],
      "metadata": {
        "id": "hX7Ncl8kAz9n"
      },
      "execution_count": null,
      "outputs": []
    },
    {
      "cell_type": "code",
      "source": [
        "steps = 0\n",
        "while True:\n",
        "  learningrate = 0.01\n",
        "  steps += 1\n",
        "  step_sizes=sp.Matrix(np.zeros(feature_count+1))\n",
        "  subs_list = dict(zip(theta_symbols, theta_numerical))\n",
        "  subs_list[b] = b_arb\n",
        "  #print(subs_list)\n",
        "\n",
        "  for k in range(feature_count):\n",
        "      grad = (sp.diff(sum_of_squares, theta_symbols[k])).subs(subs_list)\n",
        "      step_sizes[k] = grad * learningrate\n",
        "\n",
        "  bias_grad = (sp.diff(sum_of_squares, b)).subs(subs_list)\n",
        "  step_sizes[-1] = bias_grad * learningrate\n",
        "\n",
        "\n",
        "  for l in range(feature_count):\n",
        "    theta_numerical[l] -= float(step_sizes[l])\n",
        "\n",
        "\n",
        "  b_arb -= float(step_sizes[-1])\n",
        "  #print(theta_numerical)\n",
        "  #print(b_arb)\n",
        "\n",
        "  if (steps >= 1000):\n",
        "    print(f\"Converged after {steps} steps.\")\n",
        "    print(\"Final Optimized Parameters (theta):\")\n",
        "    for i, val in enumerate(theta_numerical):\n",
        "        print(f\"  theta{i}: {val:.6f}\")\n",
        "    print(\"b=\",b_arb)\n",
        "    break\n",
        "\n",
        "print(theta_numerical)\n",
        "print(b_arb)"
      ],
      "metadata": {
        "colab": {
          "base_uri": "https://localhost:8080/"
        },
        "id": "5MRpxRMOEoI8",
        "outputId": "9c75cbc3-a7a8-4f25-8210-29dde242449c"
      },
      "execution_count": null,
      "outputs": [
        {
          "output_type": "stream",
          "name": "stdout",
          "text": [
            "Converged after 1000 steps.\n",
            "Final Optimized Parameters (theta):\n",
            "  theta0: 2.500708\n",
            "  theta1: 2.500708\n",
            "b= 9.996743508693097\n",
            "[2.50070773 2.50070773]\n",
            "9.996743508693097\n"
          ]
        }
      ]
    },
    {
      "cell_type": "code",
      "source": [],
      "metadata": {
        "id": "90R98uQugHck"
      },
      "execution_count": null,
      "outputs": []
    }
  ]
}